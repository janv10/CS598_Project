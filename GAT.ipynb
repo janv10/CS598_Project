{
 "cells": [
  {
   "cell_type": "code",
   "execution_count": 47,
   "id": "6df1438e",
   "metadata": {},
   "outputs": [],
   "source": [
    "import torch\n",
    "import torch.nn.functional as F\n",
    "from torch_geometric.datasets import Planetoid\n",
    "import torch_geometric.transforms as T\n",
    "from torch_geometric.nn import GATConv\n",
    "import matplotlib.pyplot as plt\n"
   ]
  },
  {
   "cell_type": "code",
   "execution_count": 41,
   "id": "79dbcbc7",
   "metadata": {},
   "outputs": [],
   "source": [
    "dataset_cora = Planetoid(root=\"./tmp\", name=\"Cora\", transform=T.NormalizeFeatures())\n",
    "dataset_citeseer = Planetoid(root=\"./tmp\", name=\"CiteSeer\", transform=T.NormalizeFeatures())\n",
    "dataset_pubmed = Planetoid(root=\"./tmp\", name=\"Pubmed\",transform=T.NormalizeFeatures())\n",
    "\n",
    "data_cora = dataset_cora[0]\n",
    "data_citeseer = dataset_citeseer[0]\n",
    "data_pubmed = dataset_pubmed[0]\n",
    "\n",
    "print(\"Citation network information\")\n",
    "print(\"----------------------------\\n\")\n",
    "print(\"Cora: \", data_cora, \"\\n\")\n",
    "print(\"Citeseer: \", data_citeseer, \"\\n\")\n",
    "print(\"Pubmed: \", data_pubmed, \"\\n\")"
   ]
  },
  {
   "cell_type": "code",
   "execution_count": 60,
   "id": "30cd78b0",
   "metadata": {},
   "outputs": [],
   "source": [
    "def train(model, data, optimizer):\n",
    "    model.train() \n",
    "    optimizer.zero_grad() \n",
    "    log_softmax = model(data) \n",
    "    labels = data.y \n",
    "    nll_loss = F.nll_loss(log_softmax[data.train_mask], labels[data.train_mask])\n",
    "    nll_loss.backward()\n",
    "    optimizer.step() \n",
    "\n",
    "def compute_accuracy(model, data, mask):\n",
    "    model.eval()\n",
    "    logprob = model(data)\n",
    "    _, y_pred = logprob[mask].max(dim=1)\n",
    "    y_true=data.y[mask]\n",
    "    acc = y_pred.eq(y_true).sum()/ mask.sum().float()\n",
    "    return acc.item()\n",
    "\n",
    "def test(model, data):\n",
    "    acc_train = compute_accuracy(model, data, data.train_mask)\n",
    "    acc_val = compute_accuracy(model, data, data.val_mask)\n",
    "    return acc_train, acc_val"
   ]
  },
  {
   "cell_type": "code",
   "execution_count": 61,
   "id": "026b487e",
   "metadata": {},
   "outputs": [],
   "source": [
    "class GAT(torch.nn.Module):\n",
    "    def __init__(self, data, heads_layer1, heads_layer2, dropout, dropout_alphas):\n",
    "        super().__init__()\n",
    "\n",
    "        self.dropout=dropout\n",
    "        num_features = data.num_features\n",
    "        num_classes = len(data.y.unique())\n",
    "\n",
    "        self.conv1 = GATConv(in_channels=num_features, out_channels=8,\n",
    "                             heads=heads_layer1, concat=True, negative_slope=0.2, \n",
    "                             dropout=dropout_alphas)\n",
    "\n",
    "        self.conv2 = GATConv(in_channels=8*heads_layer1, out_channels=num_classes, \n",
    "                             heads=heads_layer2, concat=False, negative_slope=0.2,\n",
    "                             dropout=dropout_alphas)\n",
    "\n",
    "    def forward(self, data):\n",
    "        x=data.x\n",
    "        x = F.dropout(x, p=self.dropout, training=self.training)\n",
    "        x = self.conv1(x, data.edge_index)\n",
    "        x = F.elu(x)\n",
    "        x = F.dropout(x, p=self.dropout, training=self.training)\n",
    "        x = self.conv2(x, data.edge_index)\n",
    "\n",
    "        return F.log_softmax(x, dim=1)"
   ]
  },
  {
   "cell_type": "markdown",
   "id": "35fb9c37",
   "metadata": {},
   "source": [
    "# Cora Implementation"
   ]
  },
  {
   "cell_type": "code",
   "execution_count": 62,
   "id": "22da2aa6",
   "metadata": {},
   "outputs": [],
   "source": [
    "device = torch.device(\"cuda\" if torch.cuda.is_available() else \"cpu\")\n",
    "\n",
    "model_cora_gat = GAT(data=data_cora, heads_layer1=8, heads_layer2=8, dropout=0.6,  dropout_alphas=0.6).to(device)\n",
    "data_cora= data_cora.to(device)\n",
    "\n",
    "optimizer = torch.optim.Adam(model_cora_gat.parameters(), lr=0.001, weight_decay=1e-4)\n",
    "train_acc = []\n",
    "val_acc = []\n",
    "\n",
    "for epoch in range(1, 200+1):\n",
    "    train(model_cora_gat, data_cora, optimizer)\n",
    "    if epoch %10 ==0:\n",
    "        acc_train, acc_val = test(model_cora_gat,data_cora)\n",
    "        train_acc.append(acc_train)\n",
    "        val_acc.append(acc_val)\n",
    "        log = 'Epoch: {:03d}, Train: {:.4f}, Val: {:.4f}'\n",
    "        print(log.format(epoch, acc_train, acc_val))"
   ]
  },
  {
   "cell_type": "code",
   "execution_count": 63,
   "id": "5b98c007",
   "metadata": {},
   "outputs": [],
   "source": [
    "# Plot the training and validation accuracy curves\n",
    "epochs = range(10, 201, 10)\n",
    "plt.plot(epochs, train_acc, label='Training Accuracy')\n",
    "plt.plot(epochs, val_acc, label='Validation Accuracy')\n",
    "plt.title('Cora: GAT Model Training Progress')\n",
    "plt.xlabel('Epoch')\n",
    "plt.ylabel('Accuracy')\n",
    "plt.legend()\n",
    "plt.show()"
   ]
  },
  {
   "cell_type": "markdown",
   "id": "10a6efa4",
   "metadata": {},
   "source": [
    "# Pubmed Implementation"
   ]
  },
  {
   "cell_type": "code",
   "execution_count": 64,
   "id": "3cca1d09",
   "metadata": {},
   "outputs": [],
   "source": [
    "device = torch.device(\"cuda\" if torch.cuda.is_available() else \"cpu\")\n",
    "\n",
    "model_pubmed_gat = GAT(data=data_pubmed, heads_layer1=8, heads_layer2=8, dropout=0.6,  dropout_alphas=0.6).to(device)\n",
    "data_pubmed= data_pubmed.to(device)\n",
    "\n",
    "optimizer = torch.optim.Adam(model_pubmed_gat.parameters(), lr=0.001, weight_decay=1e-4)\n",
    "train_acc = []\n",
    "val_acc = []\n",
    "\n",
    "for epoch in range(1, 200+1):\n",
    "    train(model_pubmed_gat, data_pubmed, optimizer)\n",
    "    if epoch %10 ==0:\n",
    "        acc_train, acc_val = test(model_pubmed_gat,data_pubmed)\n",
    "        train_acc.append(acc_train)\n",
    "        val_acc.append(acc_val)\n",
    "        log = 'Epoch: {:03d}, Train: {:.4f}, Val: {:.4f}'\n",
    "        print(log.format(epoch, acc_train, acc_val))"
   ]
  },
  {
   "cell_type": "code",
   "execution_count": 65,
   "id": "9563e992",
   "metadata": {},
   "outputs": [],
   "source": [
    "# Plot the training and validation accuracy curves\n",
    "epochs = range(10, 201, 10)\n",
    "plt.plot(epochs, train_acc, label='Training Accuracy')\n",
    "plt.plot(epochs, val_acc, label='Validation Accuracy')\n",
    "plt.title('Pubmed: GAT Model Training Progress')\n",
    "plt.xlabel('Epoch')\n",
    "plt.ylabel('Accuracy')\n",
    "plt.legend()\n",
    "plt.show()\n"
   ]
  },
  {
   "cell_type": "code",
   "execution_count": null,
   "id": "9de267f1",
   "metadata": {},
   "outputs": [],
   "source": []
  }
 ],
 "metadata": {
  "illinois_payload": {
   "b64z": "",
   "nb_path": "release/HW5_MedGAN/GAT.ipynb"
  }
 },
 "nbformat": 4,
 "nbformat_minor": 5
}
